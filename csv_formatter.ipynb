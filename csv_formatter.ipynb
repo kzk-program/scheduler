{
 "cells": [
  {
   "cell_type": "markdown",
   "id": "1d6b8944",
   "metadata": {},
   "source": [
    "# Googleフォームで集めた情報を、自動スケジューリングソフトに流すための変換"
   ]
  },
  {
   "cell_type": "markdown",
   "id": "facef871",
   "metadata": {},
   "source": [
    "このファイルのコピーを作ってそこで作業してください"
   ]
  },
  {
   "cell_type": "code",
   "execution_count": 1,
   "id": "9199ac7f",
   "metadata": {},
   "outputs": [],
   "source": [
    "import pandas as pd\n",
    "import os\n",
    "from src.solver import similar_name"
   ]
  },
  {
   "cell_type": "code",
   "execution_count": 2,
   "id": "e308ddd7",
   "metadata": {},
   "outputs": [
    {
     "data": {
      "text/html": [
       "<div>\n",
       "<style scoped>\n",
       "    .dataframe tbody tr th:only-of-type {\n",
       "        vertical-align: middle;\n",
       "    }\n",
       "\n",
       "    .dataframe tbody tr th {\n",
       "        vertical-align: top;\n",
       "    }\n",
       "\n",
       "    .dataframe thead th {\n",
       "        text-align: right;\n",
       "    }\n",
       "</style>\n",
       "<table border=\"1\" class=\"dataframe\">\n",
       "  <thead>\n",
       "    <tr style=\"text-align: right;\">\n",
       "      <th></th>\n",
       "      <th>タイムスタンプ</th>\n",
       "      <th>メールアドレス</th>\n",
       "      <th>バンド名</th>\n",
       "      <th>メンバー1</th>\n",
       "      <th>メンバー2</th>\n",
       "      <th>メンバー3</th>\n",
       "      <th>メンバー4</th>\n",
       "      <th>メンバー5</th>\n",
       "      <th>メンバー6</th>\n",
       "      <th>出演可能時間</th>\n",
       "      <th>備考</th>\n",
       "    </tr>\n",
       "  </thead>\n",
       "  <tbody>\n",
       "    <tr>\n",
       "      <th>0</th>\n",
       "      <td>2024/06/02 17:20:54</td>\n",
       "      <td>sample1@example.com</td>\n",
       "      <td>バンド1</td>\n",
       "      <td>アアアア</td>\n",
       "      <td>イイイイ</td>\n",
       "      <td>ウウウウ</td>\n",
       "      <td>エエエエ</td>\n",
       "      <td>オオオオ</td>\n",
       "      <td>カカカカ</td>\n",
       "      <td>10:00-11:00,11:00-12:00,12:00-13:00,14:00-15:0...</td>\n",
       "      <td>いえーい</td>\n",
       "    </tr>\n",
       "    <tr>\n",
       "      <th>1</th>\n",
       "      <td>2024/06/02 17:47:16</td>\n",
       "      <td>sample2@example.com</td>\n",
       "      <td>バンド2</td>\n",
       "      <td>アアアア</td>\n",
       "      <td>イイイイ</td>\n",
       "      <td>キキキキ</td>\n",
       "      <td>クククク</td>\n",
       "      <td>ケケケケ</td>\n",
       "      <td>ココココ</td>\n",
       "      <td>10:00-11:00, 11:00-12:00, 12:00-13:00</td>\n",
       "      <td>NaN</td>\n",
       "    </tr>\n",
       "    <tr>\n",
       "      <th>2</th>\n",
       "      <td>2024/06/02 17:56:35</td>\n",
       "      <td>sample3@example.com</td>\n",
       "      <td>バンド3</td>\n",
       "      <td>イイイイ</td>\n",
       "      <td>ササササ</td>\n",
       "      <td>シシシシ</td>\n",
       "      <td>セセセセ</td>\n",
       "      <td>ソソソソ</td>\n",
       "      <td>タタタタ</td>\n",
       "      <td>10:00-11:00, 11:00-12:00, 12:00-13:00, 14:00-1...</td>\n",
       "      <td>NaN</td>\n",
       "    </tr>\n",
       "    <tr>\n",
       "      <th>3</th>\n",
       "      <td>2024/06/03 9:55:24</td>\n",
       "      <td>sample4@example.com</td>\n",
       "      <td>バンド4</td>\n",
       "      <td>チチチチ</td>\n",
       "      <td>ツツツツ</td>\n",
       "      <td>テテテテ</td>\n",
       "      <td>トトトト</td>\n",
       "      <td>ナナナナ</td>\n",
       "      <td>ニニニニ</td>\n",
       "      <td>10:00-11:00, 11:00-12:00</td>\n",
       "      <td>NaN</td>\n",
       "    </tr>\n",
       "    <tr>\n",
       "      <th>4</th>\n",
       "      <td>2024/06/03 13:23:55</td>\n",
       "      <td>sample5@example.com</td>\n",
       "      <td>バンド5</td>\n",
       "      <td>ウウウウ</td>\n",
       "      <td>エエエエ</td>\n",
       "      <td>ヌヌヌヌ</td>\n",
       "      <td>ネネネネ</td>\n",
       "      <td>ノノノノ</td>\n",
       "      <td>ハハハハ</td>\n",
       "      <td>10:00-11:00, 11:00-12:00, 12:00-13:00, 14:00-1...</td>\n",
       "      <td>NaN</td>\n",
       "    </tr>\n",
       "  </tbody>\n",
       "</table>\n",
       "</div>"
      ],
      "text/plain": [
       "               タイムスタンプ              メールアドレス  バンド名 メンバー1 メンバー2  メンバー3 メンバー4  \\\n",
       "0  2024/06/02 17:20:54  sample1@example.com  バンド1  アアアア  イイイイ   ウウウウ  エエエエ   \n",
       "1  2024/06/02 17:47:16  sample2@example.com  バンド2  アアアア  イイイイ   キキキキ  クククク   \n",
       "2  2024/06/02 17:56:35  sample3@example.com  バンド3  イイイイ  ササササ   シシシシ  セセセセ   \n",
       "3   2024/06/03 9:55:24  sample4@example.com  バンド4  チチチチ  ツツツツ   テテテテ  トトトト   \n",
       "4  2024/06/03 13:23:55  sample5@example.com  バンド5  ウウウウ  エエエエ   ヌヌヌヌ  ネネネネ   \n",
       "\n",
       "  メンバー5 メンバー6                                             出演可能時間    備考  \n",
       "0  オオオオ  カカカカ  10:00-11:00,11:00-12:00,12:00-13:00,14:00-15:0...  いえーい  \n",
       "1  ケケケケ  ココココ              10:00-11:00, 11:00-12:00, 12:00-13:00   NaN  \n",
       "2  ソソソソ  タタタタ  10:00-11:00, 11:00-12:00, 12:00-13:00, 14:00-1...   NaN  \n",
       "3  ナナナナ  ニニニニ                           10:00-11:00, 11:00-12:00   NaN  \n",
       "4  ノノノノ  ハハハハ  10:00-11:00, 11:00-12:00, 12:00-13:00, 14:00-1...   NaN  "
      ]
     },
     "execution_count": 2,
     "metadata": {},
     "output_type": "execute_result"
    }
   ],
   "source": [
    "# フォームで提出されたCSVファイルを読み込む\n",
    "CSV_FILE_NAME = \"sample.csv\"\n",
    "df = pd.read_csv(os.path.join(\"raw_data\", CSV_FILE_NAME))\n",
    "df.head()"
   ]
  },
  {
   "cell_type": "markdown",
   "id": "184d452d",
   "metadata": {},
   "source": [
    "## 出演可能時間なら1、不可能時間なら0となるように列を作る"
   ]
  },
  {
   "cell_type": "code",
   "execution_count": 3,
   "id": "75c429d9",
   "metadata": {},
   "outputs": [
    {
     "name": "stdout",
     "output_type": "stream",
     "text": [
      "['10:00-11:00', '11:00-12:00', '12:00-13:00', '14:00-15:00', '15:00-16:00']\n"
     ]
    }
   ],
   "source": [
    "# 出演可能時間でユニークな時間のリストを作成\n",
    "unique_times = set()\n",
    "for time in df[\"出演可能時間\"]:\n",
    "    time_list = time.split(\",\")\n",
    "    for t in time_list:\n",
    "        unique_times.add(t.strip())\n",
    "unique_times = sorted(list(unique_times))\n",
    "print(unique_times)"
   ]
  },
  {
   "cell_type": "markdown",
   "id": "9e76197e",
   "metadata": {},
   "source": [
    "以下は実際のスケジュール (1時間あたり何バンドやるかなど)に合わせて書き換えて下さい"
   ]
  },
  {
   "cell_type": "code",
   "execution_count": 4,
   "id": "175f881b",
   "metadata": {},
   "outputs": [
    {
     "data": {
      "text/html": [
       "<div>\n",
       "<style scoped>\n",
       "    .dataframe tbody tr th:only-of-type {\n",
       "        vertical-align: middle;\n",
       "    }\n",
       "\n",
       "    .dataframe tbody tr th {\n",
       "        vertical-align: top;\n",
       "    }\n",
       "\n",
       "    .dataframe thead th {\n",
       "        text-align: right;\n",
       "    }\n",
       "</style>\n",
       "<table border=\"1\" class=\"dataframe\">\n",
       "  <thead>\n",
       "    <tr style=\"text-align: right;\">\n",
       "      <th></th>\n",
       "      <th>タイムスタンプ</th>\n",
       "      <th>メールアドレス</th>\n",
       "      <th>バンド名</th>\n",
       "      <th>メンバー1</th>\n",
       "      <th>メンバー2</th>\n",
       "      <th>メンバー3</th>\n",
       "      <th>メンバー4</th>\n",
       "      <th>メンバー5</th>\n",
       "      <th>メンバー6</th>\n",
       "      <th>備考</th>\n",
       "      <th>10:00-11:00 1</th>\n",
       "      <th>11:00-12:00 1</th>\n",
       "      <th>12:00-13:00 1</th>\n",
       "      <th>14:00-15:00 1</th>\n",
       "      <th>15:00-16:00 1</th>\n",
       "    </tr>\n",
       "  </thead>\n",
       "  <tbody>\n",
       "    <tr>\n",
       "      <th>0</th>\n",
       "      <td>2024/06/02 17:20:54</td>\n",
       "      <td>sample1@example.com</td>\n",
       "      <td>バンド1</td>\n",
       "      <td>アアアア</td>\n",
       "      <td>イイイイ</td>\n",
       "      <td>ウウウウ</td>\n",
       "      <td>エエエエ</td>\n",
       "      <td>オオオオ</td>\n",
       "      <td>カカカカ</td>\n",
       "      <td>いえーい</td>\n",
       "      <td>1</td>\n",
       "      <td>1</td>\n",
       "      <td>1</td>\n",
       "      <td>1</td>\n",
       "      <td>1</td>\n",
       "    </tr>\n",
       "    <tr>\n",
       "      <th>1</th>\n",
       "      <td>2024/06/02 17:47:16</td>\n",
       "      <td>sample2@example.com</td>\n",
       "      <td>バンド2</td>\n",
       "      <td>アアアア</td>\n",
       "      <td>イイイイ</td>\n",
       "      <td>キキキキ</td>\n",
       "      <td>クククク</td>\n",
       "      <td>ケケケケ</td>\n",
       "      <td>ココココ</td>\n",
       "      <td>NaN</td>\n",
       "      <td>1</td>\n",
       "      <td>1</td>\n",
       "      <td>1</td>\n",
       "      <td>0</td>\n",
       "      <td>0</td>\n",
       "    </tr>\n",
       "    <tr>\n",
       "      <th>2</th>\n",
       "      <td>2024/06/02 17:56:35</td>\n",
       "      <td>sample3@example.com</td>\n",
       "      <td>バンド3</td>\n",
       "      <td>イイイイ</td>\n",
       "      <td>ササササ</td>\n",
       "      <td>シシシシ</td>\n",
       "      <td>セセセセ</td>\n",
       "      <td>ソソソソ</td>\n",
       "      <td>タタタタ</td>\n",
       "      <td>NaN</td>\n",
       "      <td>1</td>\n",
       "      <td>1</td>\n",
       "      <td>1</td>\n",
       "      <td>1</td>\n",
       "      <td>1</td>\n",
       "    </tr>\n",
       "    <tr>\n",
       "      <th>3</th>\n",
       "      <td>2024/06/03 9:55:24</td>\n",
       "      <td>sample4@example.com</td>\n",
       "      <td>バンド4</td>\n",
       "      <td>チチチチ</td>\n",
       "      <td>ツツツツ</td>\n",
       "      <td>テテテテ</td>\n",
       "      <td>トトトト</td>\n",
       "      <td>ナナナナ</td>\n",
       "      <td>ニニニニ</td>\n",
       "      <td>NaN</td>\n",
       "      <td>1</td>\n",
       "      <td>1</td>\n",
       "      <td>0</td>\n",
       "      <td>0</td>\n",
       "      <td>0</td>\n",
       "    </tr>\n",
       "    <tr>\n",
       "      <th>4</th>\n",
       "      <td>2024/06/03 13:23:55</td>\n",
       "      <td>sample5@example.com</td>\n",
       "      <td>バンド5</td>\n",
       "      <td>ウウウウ</td>\n",
       "      <td>エエエエ</td>\n",
       "      <td>ヌヌヌヌ</td>\n",
       "      <td>ネネネネ</td>\n",
       "      <td>ノノノノ</td>\n",
       "      <td>ハハハハ</td>\n",
       "      <td>NaN</td>\n",
       "      <td>1</td>\n",
       "      <td>1</td>\n",
       "      <td>1</td>\n",
       "      <td>1</td>\n",
       "      <td>1</td>\n",
       "    </tr>\n",
       "  </tbody>\n",
       "</table>\n",
       "</div>"
      ],
      "text/plain": [
       "               タイムスタンプ              メールアドレス  バンド名 メンバー1 メンバー2  メンバー3 メンバー4  \\\n",
       "0  2024/06/02 17:20:54  sample1@example.com  バンド1  アアアア  イイイイ   ウウウウ  エエエエ   \n",
       "1  2024/06/02 17:47:16  sample2@example.com  バンド2  アアアア  イイイイ   キキキキ  クククク   \n",
       "2  2024/06/02 17:56:35  sample3@example.com  バンド3  イイイイ  ササササ   シシシシ  セセセセ   \n",
       "3   2024/06/03 9:55:24  sample4@example.com  バンド4  チチチチ  ツツツツ   テテテテ  トトトト   \n",
       "4  2024/06/03 13:23:55  sample5@example.com  バンド5  ウウウウ  エエエエ   ヌヌヌヌ  ネネネネ   \n",
       "\n",
       "  メンバー5 メンバー6    備考  10:00-11:00 1  11:00-12:00 1  12:00-13:00 1  \\\n",
       "0  オオオオ  カカカカ  いえーい              1              1              1   \n",
       "1  ケケケケ  ココココ   NaN              1              1              1   \n",
       "2  ソソソソ  タタタタ   NaN              1              1              1   \n",
       "3  ナナナナ  ニニニニ   NaN              1              1              0   \n",
       "4  ノノノノ  ハハハハ   NaN              1              1              1   \n",
       "\n",
       "   14:00-15:00 1  15:00-16:00 1  \n",
       "0              1              1  \n",
       "1              0              0  \n",
       "2              1              1  \n",
       "3              0              0  \n",
       "4              1              1  "
      ]
     },
     "execution_count": 4,
     "metadata": {},
     "output_type": "execute_result"
    }
   ],
   "source": [
    "SCHEDULE_PER_TIME = 1\n",
    "df_new = df.copy()\n",
    "for time in unique_times:\n",
    "    for i in range(SCHEDULE_PER_TIME):\n",
    "        df_new[time + \" \" + str(i+1)] = [1 if time in [time_str.strip() for time_str in t.split(\",\")] else 0 for t in df[\"出演可能時間\"]]\n",
    "df_new = df_new.drop(columns=[\"出演可能時間\"])\n",
    "df_new.head()"
   ]
  },
  {
   "cell_type": "markdown",
   "id": "5bbf52a2",
   "metadata": {},
   "source": [
    "備考に「最初の出番が良いです」と書いてある場合など、特別な配慮が必要な場合はここで編集すると良いでしょう。\n",
    "Pandasで操作するのがしんどければ、一回CSVにしてダウンロードして、スプシで編集するのも手です。"
   ]
  },
  {
   "cell_type": "markdown",
   "id": "300f6eae",
   "metadata": {},
   "source": [
    "## 名前が似ている人をあらかじめチェックしておく"
   ]
  },
  {
   "cell_type": "markdown",
   "id": "408bd713",
   "metadata": {},
   "source": [
    "バンドメンバーに関しては、文字列が完全一致した場合にのみ、同一人物とみなしています。誤植がある場合は別人とみなされてしまいます。似た名前の人を列挙し、単に似ているだけか、誤植か、見極めましょう。誤植の場合は直しましょう。"
   ]
  },
  {
   "cell_type": "code",
   "execution_count": 5,
   "id": "75611965",
   "metadata": {},
   "outputs": [
    {
     "data": {
      "text/plain": [
       "[]"
      ]
     },
     "execution_count": 5,
     "metadata": {},
     "output_type": "execute_result"
    }
   ],
   "source": [
    "similar_name(os.path.join(\"raw_data\", CSV_FILE_NAME), [3, 4, 5, 6, 7, 8])"
   ]
  },
  {
   "cell_type": "markdown",
   "id": "45ea9a06",
   "metadata": {},
   "source": [
    "[]と表示されたら、似ている名前はありません。"
   ]
  },
  {
   "cell_type": "markdown",
   "id": "0c392b94",
   "metadata": {},
   "source": [
    "## CSVとしてdataディレクトリに保存する"
   ]
  },
  {
   "cell_type": "code",
   "execution_count": null,
   "id": "00c52850",
   "metadata": {},
   "outputs": [],
   "source": [
    "if os.path.exists(os.path.join(\"data\", CSV_FILE_NAME)):\n",
    "    print(\"既にファイルが存在します\")\n",
    "else:\n",
    "    df_new.to_csv(os.path.join(\"data\", CSV_FILE_NAME), index=False)"
   ]
  }
 ],
 "metadata": {
  "kernelspec": {
   "display_name": ".venv",
   "language": "python",
   "name": "python3"
  },
  "language_info": {
   "codemirror_mode": {
    "name": "ipython",
    "version": 3
   },
   "file_extension": ".py",
   "mimetype": "text/x-python",
   "name": "python",
   "nbconvert_exporter": "python",
   "pygments_lexer": "ipython3",
   "version": "3.12.3"
  }
 },
 "nbformat": 4,
 "nbformat_minor": 5
}
