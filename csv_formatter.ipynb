{
 "cells": [
  {
   "cell_type": "markdown",
   "id": "1d6b8944",
   "metadata": {},
   "source": [
    "# Googleフォームで集めた情報を、自動スケジューリングソフトに流すための変換"
   ]
  },
  {
   "cell_type": "markdown",
   "id": "facef871",
   "metadata": {},
   "source": [
    "このファイルのコピーを作ってそこで作業してください"
   ]
  },
  {
   "cell_type": "code",
   "execution_count": null,
   "id": "9199ac7f",
   "metadata": {},
   "outputs": [],
   "source": [
    "import pandas as pd\n",
    "import os\n",
    "from src.solver import similar_name"
   ]
  },
  {
   "cell_type": "code",
   "execution_count": null,
   "id": "e308ddd7",
   "metadata": {},
   "outputs": [],
   "source": [
    "# フォームで提出されたCSVファイルを読み込む\n",
    "CSV_FILE_NAME = \"sample.csv\"\n",
    "df = pd.read_csv(os.path.join(\"raw_data\", CSV_FILE_NAME))\n",
    "df.head()"
   ]
  },
  {
   "cell_type": "markdown",
   "id": "184d452d",
   "metadata": {},
   "source": [
    "## 出演可能時間なら1、不可能時間なら0となるように列を作る"
   ]
  },
  {
   "cell_type": "code",
   "execution_count": null,
   "id": "75c429d9",
   "metadata": {},
   "outputs": [],
   "source": [
    "# 出演可能時間でユニークな時間のリストを作成\n",
    "unique_times = set()\n",
    "for time in df[\"出演可能時間\"]:\n",
    "    time_list = time.split(\",\")\n",
    "    for t in time_list:\n",
    "        unique_times.add(t.strip())\n",
    "unique_times = sorted(list(unique_times))\n",
    "print(unique_times)"
   ]
  },
  {
   "cell_type": "markdown",
   "id": "9e76197e",
   "metadata": {},
   "source": [
    "以下は実際のスケジュール (1時間あたり何バンドやるかなど)に合わせて書き換えて下さい"
   ]
  },
  {
   "cell_type": "code",
   "execution_count": null,
   "id": "175f881b",
   "metadata": {},
   "outputs": [],
   "source": [
    "SCHEDULE_PER_TIME = 1\n",
    "df_new = df.copy()\n",
    "for time in unique_times:\n",
    "    for i in range(SCHEDULE_PER_TIME):\n",
    "        df_new[time + \" \" + str(i+1)] = [1 if time in [time_str.strip() for time_str in t.split(\",\")] else 0 for t in df[\"出演可能時間\"]]\n",
    "df_new = df_new.drop(columns=[\"出演可能時間\"])\n",
    "df_new.head()"
   ]
  },
  {
   "cell_type": "markdown",
   "id": "5bbf52a2",
   "metadata": {},
   "source": [
    "備考に「最初の出番が良いです」と書いてある場合など、特別な配慮が必要な場合はここで編集すると良いでしょう。\n",
    "Pandasで操作するのがしんどければ、一回CSVにしてダウンロードして、スプシで編集するのも手です。"
   ]
  },
  {
   "cell_type": "markdown",
   "id": "300f6eae",
   "metadata": {},
   "source": [
    "## 名前が似ている人をあらかじめチェックしておく"
   ]
  },
  {
   "cell_type": "markdown",
   "id": "408bd713",
   "metadata": {},
   "source": [
    "バンドメンバーに関しては、文字列が完全一致した場合にのみ、同一人物とみなしています。誤植がある場合は別人とみなされてしまいます。似た名前の人を列挙し、単に似ているだけか、誤植か、見極めましょう。誤植の場合は直しましょう。"
   ]
  },
  {
   "cell_type": "code",
   "execution_count": null,
   "id": "75611965",
   "metadata": {},
   "outputs": [],
   "source": [
    "similar_name(os.path.join(\"raw_data\", CSV_FILE_NAME), [3, 4, 5, 6, 7, 8])"
   ]
  },
  {
   "cell_type": "markdown",
   "id": "45ea9a06",
   "metadata": {},
   "source": [
    "[]と表示されたら、似ている名前はありません。"
   ]
  },
  {
   "cell_type": "markdown",
   "id": "0c392b94",
   "metadata": {},
   "source": [
    "## CSVとしてdataディレクトリに保存する"
   ]
  },
  {
   "cell_type": "code",
   "execution_count": null,
   "id": "00c52850",
   "metadata": {},
   "outputs": [],
   "source": [
    "if os.path.exists(os.path.join(\"data\", CSV_FILE_NAME)):\n",
    "    print(\"既にファイルが存在します\")\n",
    "else:\n",
    "    df_new.to_csv(os.path.join(\"data\", CSV_FILE_NAME), index=False)"
   ]
  },
  {
   "cell_type": "code",
   "execution_count": null,
   "id": "9529f9ba",
   "metadata": {},
   "outputs": [],
   "source": []
  }
 ],
 "metadata": {
  "kernelspec": {
   "display_name": ".venv",
   "language": "python",
   "name": "python3"
  },
  "language_info": {
   "codemirror_mode": {
    "name": "ipython",
    "version": 3
   },
   "file_extension": ".py",
   "mimetype": "text/x-python",
   "name": "python",
   "nbconvert_exporter": "python",
   "pygments_lexer": "ipython3",
   "version": "3.12.3"
  }
 },
 "nbformat": 4,
 "nbformat_minor": 5
}
